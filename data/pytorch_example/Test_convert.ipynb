{
 "cells": [
  {
   "cell_type": "code",
   "execution_count": 1,
   "metadata": {},
   "outputs": [],
   "source": [
    "import torch\n",
    "import torchvision.models as models\n",
    "import torch\n",
    "from torch.autograd import Variable\n",
    "import torch.nn as nn\n",
    "import torch.nn.functional as F\n",
    "import csv\n",
    "from util import *\n",
    "%load_ext autoreload\n",
    "%autoreload 2"
   ]
  },
  {
   "cell_type": "code",
   "execution_count": null,
   "metadata": {},
   "outputs": [],
   "source": [
    "model_name = \"SinglepathNAS\"\n",
    "dataflow = \"rs\"\n",
    "\n",
    "input_size = (3, 224, 224)\n",
    "num_classes = 1000\n",
    "flops = 0\n",
    "profiled_layers = []\n",
    "blocks_args = [\n",
    "      'r1_k3_s22_e3.0_i32_o16', \n",
    "      'r1_k3_s11_e3.0_i16_o24',\n",
    "      'r1_k3_s11_e3.0_i24_o24', \n",
    "      'r1_k5_s22_e6.0_i24_o24',\n",
    "      'r1_k3_s11_e3.0_i24_o40',\n",
    "      'r1_k3_s11_e3.0_i40_o40',\n",
    "      'r1_k3_s11_e3.0_i40_o40', \n",
    "      'r1_k5_s22_e6.0_i40_o80',\n",
    "      'r1_k3_s11_e3.0_i80_o80', \n",
    "      'r1_k3_s11_e3.0_i80_o80',\n",
    "      'r1_k3_s11_e3.0_i80_o80',\n",
    "      'r1_k5_s11_e6.0_i80_o96', \n",
    "      'r1_k5_s11_e3.0_i96_o96',\n",
    "      'r1_k5_s11_e3.0_i96_o96', \n",
    "      'r1_k5_s11_e3.0_i96_o96',\n",
    "      'r1_k5_s22_e6.0_i96_o192',\n",
    "      'r1_k5_s11_e6.0_i192_o192',\n",
    "      'r1_k5_s11_e6.0_i192_o192', \n",
    "      'r1_k5_s11_e6.0_i192_o192',\n",
    "      'r1_k3_s11_e6.0_i192_o320',\n",
    "]\n",
    "\n",
    "# Stem part\n",
    "layer_type, kernel_size, stride, out_channels = \"Conv\", 3, (2, 2), 32\n",
    "output_size, nb_params, R, S, flop = \\\n",
    "    get_conv_output_and_params_and_flops(input_size, layer_type, kernel_size, stride, out_channels=out_channels)\n",
    "profiled_layers.append(tuple((layer_type, input_size, output_size, stride, nb_params, R, S)))\n",
    "flops += flop\n",
    "\n",
    "# SinglepathNAS: None\n",
    "\n",
    "# Backbone part\n",
    "for blocks_string in blocks_args:\n",
    "    layers, output_size, flop = profile_blockargs(blocks_string, output_size)\n",
    "    profiled_layers += layers\n",
    "    flops += flop\n",
    "\n",
    "# Head part\n",
    "layer_type, input_size, kernel_size, stride, out_channels = \"Conv\", output_size, 1, (1, 1), 1280\n",
    "output_size, nb_params, R, S, flop = \\\n",
    "    get_conv_output_and_params_and_flops(input_size, layer_type, kernel_size, stride, out_channels=out_channels)\n",
    "profiled_layers += [tuple((layer_type, input_size, output_size, stride, nb_params, R, S))]\n",
    "flops += flop\n",
    "\n",
    "layer_type, input_size, out_features = \"Linear\", output_size, num_classes\n",
    "output_size, nb_params, R, S, flop = get_linear_output_size_and_nb_param(input_size, out_features, use_pool=True)\n",
    "profiled_layers += [tuple((layer_type, input_size, output_size, None, nb_params, R, S))]\n",
    "flops += flop\n",
    "\n",
    "print(\"Total number of flops:\", flops)"
   ]
  },
  {
   "cell_type": "code",
   "execution_count": null,
   "metadata": {},
   "outputs": [],
   "source": [
    "summary = make_summary(profiled_layers, dataflow=dataflow, model_name=model_name)\n",
    "# Get number of parameters\n",
    "layer_names = list(summary.keys())\n",
    "params = list(map(lambda x: int(summary[x]['nb_params']), layer_names))\n",
    "print(\"Total number of parameters:\", sum(params))"
   ]
  },
  {
   "cell_type": "code",
   "execution_count": null,
   "metadata": {},
   "outputs": [],
   "source": [
    "with open(\"SinglepathNAS.csv\", mode='w') as model_file:\n",
    "    model_writer = csv.writer(model_file, delimiter=',')\n",
    "    for blocks_string in blocks_args:\n",
    "        model_writer.writerow([blocks_string])"
   ]
  },
  {
   "cell_type": "code",
   "execution_count": null,
   "metadata": {},
   "outputs": [],
   "source": [
    "# blocks_args = []\n",
    "# with open(\"MnasNet-A1.csv\", mode='r') as model_file:\n",
    "#     model_reader = csv.reader(model_file, delimiter=',')\n",
    "#     for row in model_reader:\n",
    "#         blocks_args += row"
   ]
  },
  {
   "cell_type": "code",
   "execution_count": null,
   "metadata": {},
   "outputs": [],
   "source": []
  },
  {
   "cell_type": "code",
   "execution_count": null,
   "metadata": {},
   "outputs": [],
   "source": []
  },
  {
   "cell_type": "code",
   "execution_count": null,
   "metadata": {},
   "outputs": [],
   "source": []
  },
  {
   "cell_type": "code",
   "execution_count": null,
   "metadata": {},
   "outputs": [],
   "source": []
  },
  {
   "cell_type": "code",
   "execution_count": null,
   "metadata": {},
   "outputs": [],
   "source": []
  }
 ],
 "metadata": {
  "kernelspec": {
   "display_name": "Python 3",
   "language": "python",
   "name": "python3"
  },
  "language_info": {
   "codemirror_mode": {
    "name": "ipython",
    "version": 3
   },
   "file_extension": ".py",
   "mimetype": "text/x-python",
   "name": "python",
   "nbconvert_exporter": "python",
   "pygments_lexer": "ipython3",
   "version": "3.7.5"
  }
 },
 "nbformat": 4,
 "nbformat_minor": 2
}
