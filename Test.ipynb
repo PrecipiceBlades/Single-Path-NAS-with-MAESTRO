{
 "cells": [
  {
   "cell_type": "code",
   "execution_count": 6,
   "metadata": {},
   "outputs": [
    {
     "name": "stdout",
     "output_type": "stream",
     "text": [
      "29858728\n"
     ]
    }
   ],
   "source": [
    "import csv\n",
    "with open('SinglepathNAS.csv', newline='') as csvfile:\n",
    "    readCSV = csv.reader(csvfile, delimiter=',')\n",
    "    rows = []\n",
    "    for key, row in enumerate(readCSV):\n",
    "        if key != 0:\n",
    "            rows.append(int(row[3]))\n",
    "    print(sum(rows))"
   ]
  },
  {
   "cell_type": "code",
   "execution_count": null,
   "metadata": {},
   "outputs": [],
   "source": [
    "~8s"
   ]
  }
 ],
 "metadata": {
  "kernelspec": {
   "display_name": "Python 3",
   "language": "python",
   "name": "python3"
  },
  "language_info": {
   "codemirror_mode": {
    "name": "ipython",
    "version": 3
   },
   "file_extension": ".py",
   "mimetype": "text/x-python",
   "name": "python",
   "nbconvert_exporter": "python",
   "pygments_lexer": "ipython3",
   "version": "3.7.5"
  }
 },
 "nbformat": 4,
 "nbformat_minor": 2
}
